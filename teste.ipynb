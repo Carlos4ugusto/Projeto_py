{
 "cells": [
  {
   "cell_type": "code",
   "execution_count": 1,
   "metadata": {},
   "outputs": [
    {
     "name": "stdout",
     "output_type": "stream",
     "text": [
      "[0, 1, 1, 2, 3, 5, 8, 13, 21, 34]\n"
     ]
    }
   ],
   "source": [
    "#Sequência de Fibonacci sem recursão\n",
    "\"\"\"\n",
    "    Gera a sequência de Fibonacci até um número n.\n",
    "\n",
    "    Parâmetros:\n",
    "    n (int): O número de termos da sequência a serem gerados.\n",
    "\n",
    "    Retorna:\n",
    "    list: Uma lista contendo a sequência de Fibonacci até o n-ésimo termo.\n",
    "    \"\"\"\n",
    "def fibonacci(n):\n",
    "  seq= [0, 1]\n",
    "  while len(seq) < n:\n",
    "    seq.append(seq[-1]+seq[-2])\n",
    "  return seq\n",
    "\n",
    "print(fibonacci(10))"
   ]
  },
  {
   "cell_type": "code",
   "execution_count": 13,
   "metadata": {},
   "outputs": [],
   "source": [
    "#A sequência de Fibonacci recursiva\n",
    "def fibo(n):\n",
    "    if n == 1 or n == 2:\n",
    "        return 1\n",
    "    else:\n",
    "        return fibo(n - 1) + fibo(n - 2)"
   ]
  },
  {
   "cell_type": "code",
   "execution_count": 15,
   "metadata": {},
   "outputs": [],
   "source": [
    "#Módulo Tkinter para uso de interface gráfica\n",
    "from tkinter import *\n",
    "\n",
    "janelaPrincipal = Tk()\n",
    "texto = Label(master= janelaPrincipal, text = \"Minha janela exibida\")\n",
    "texto.place(x = 50, y = 100)\n",
    "janelaPrincipal.mainloop()"
   ]
  },
  {
   "cell_type": "code",
   "execution_count": 8,
   "metadata": {},
   "outputs": [
    {
     "name": "stdout",
     "output_type": "stream",
     "text": [
      "Local time: Mon Jun 24 12:27:58 2024\n"
     ]
    }
   ],
   "source": [
    "#Função para obter o horário local\n",
    "import time\n",
    "\n",
    "x = time.time()\n",
    "print(f'Local time: {time.ctime(x)}')"
   ]
  },
  {
   "cell_type": "code",
   "execution_count": 10,
   "metadata": {},
   "outputs": [],
   "source": [
    "#Fatorial com recursão\n",
    "def fatorial(n):\n",
    "    if n == 0 or n == 1:\n",
    "        return 1\n",
    "    else:\n",
    "        return n * fatorial(n - 1)"
   ]
  },
  {
   "cell_type": "code",
   "execution_count": 11,
   "metadata": {},
   "outputs": [],
   "source": [
    "#Fatorial sem recursão\n",
    "def fatorial(n):\n",
    "    fat = 1\n",
    "    while n > 1:\n",
    "        fat = fat * n\n",
    "        n = n - 1\n",
    "    return fat"
   ]
  },
  {
   "cell_type": "code",
   "execution_count": null,
   "metadata": {},
   "outputs": [],
   "source": [
    "#Importando bibliotecas\n",
    "\n",
    "import matplotlib.pyplot as plt #é uma coleção de funções que facilitam a criação de gráficos\n",
    "import numpy as np #é uma biblioteca para trabalhar com arrays em operçaões matemáticas\n",
    "#esses imports criam um gráfico de barras.\n",
    "\n",
    "x = np.array([\"A\", \"B\", \"C\", \"D\"])\n",
    "y = np.array([3, 4, 5, 6])\n",
    "#cria um gráfico de barras com eixo x e y\n",
    "plt.bar(x, y)\n",
    "#exibe o gráfico na tela\n",
    "plt.show()"
   ]
  },
  {
   "cell_type": "code",
   "execution_count": null,
   "metadata": {},
   "outputs": [],
   "source": [
    "from tkinter import *\n",
    "\n",
    "def funcClicar():\n",
    "    print(\"Botão pressionado\")\n",
    "\n",
    "janelaPrincipal = Tk()\n",
    "texto = Label(master = janelaPrincipal, text = \"Minha janela exibida\")\n",
    "texto.pack()\n",
    "\n",
    "pic = PhotoImage(file=\"logoEstacio.gif\")\n",
    "logo = Label(master = janelaPrincipal, image = pic)\n",
    "logo.pack()\n",
    "\n",
    "botao = Button(master = janelaPrincipal, text = 'Clique', command = funcClicar)\n",
    "botao.pack()\n",
    "\n",
    "janelaPrincipal.mainloop()"
   ]
  },
  {
   "cell_type": "code",
   "execution_count": null,
   "metadata": {},
   "outputs": [],
   "source": [
    "import math \n",
    "\n",
    "n = 4.1\n",
    "print(math.ceil(n))"
   ]
  }
 ],
 "metadata": {
  "kernelspec": {
   "display_name": "Python 3",
   "language": "python",
   "name": "python3"
  },
  "language_info": {
   "codemirror_mode": {
    "name": "ipython",
    "version": 3
   },
   "file_extension": ".py",
   "mimetype": "text/x-python",
   "name": "python",
   "nbconvert_exporter": "python",
   "pygments_lexer": "ipython3",
   "version": "3.11.2"
  }
 },
 "nbformat": 4,
 "nbformat_minor": 2
}
